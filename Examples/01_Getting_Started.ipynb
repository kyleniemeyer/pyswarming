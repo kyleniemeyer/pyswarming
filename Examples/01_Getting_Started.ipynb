{
 "cells": [
  {
   "cell_type": "markdown",
   "metadata": {},
   "source": [
    "# Getting Started\n",
    "\n",
    "This example shows some basic functions of `pyswarming`, like target, aggregation, repulsion, and the sum of both."
   ]
  },
  {
   "cell_type": "markdown",
   "metadata": {},
   "source": [
    "## Target behavior"
   ]
  },
  {
   "cell_type": "code",
   "execution_count": null,
   "id": "051ef3c4",
   "metadata": {},
   "outputs": [],
   "source": [
    "# importing the swarming behaviors\n",
    "import pyswarming.behaviors as ps"
   ]
  },
  {
   "cell_type": "code",
   "execution_count": 2,
   "metadata": {},
   "outputs": [],
   "source": [
    "# importing numpy to work with arrays\n",
    "import numpy as np\n",
    "\n",
    "# importing matplotlib to plot the animation\n",
    "import matplotlib.pyplot as plt\n",
    "import matplotlib.animation as animation"
   ]
  },
  {
   "cell_type": "code",
   "execution_count": null,
   "id": "7d12583e",
   "metadata": {},
   "outputs": [],
   "source": [
    "# define the robot (x, y, z) position\n",
    "global r_i\n",
    "r_i = np.asarray([0., 0., 0.])\n",
    "\n",
    "# set the robot linear velocity\n",
    "s_i = 0.025\n",
    "\n",
    "# define a target (x, y, z) position\n",
    "T = np.asarray([8., 8., 0.])"
   ]
  },
  {
   "cell_type": "code",
   "execution_count": null,
   "id": "5dcd76c1",
   "metadata": {},
   "outputs": [],
   "source": [
    "# First set up the figure, the axis, and the plot element we want to animate\n",
    "fig, ax = plt.subplots()\n",
    "\n",
    "ax.set_xlim([-2,10])\n",
    "ax.set_ylim([-2,10])\n",
    "ax.set_xlabel('X(m)')\n",
    "ax.set_ylabel('Y(m)')\n",
    "ax.grid()\n",
    "ax.set_aspect('equal')\n",
    "ax.set_title('Target behavior')\n",
    "\n",
    "robot, = ax.plot([], [], marker='o', lw=0)\n",
    "target = ax.plot(T[0], T[1], marker='x', color='red', lw=0)"
   ]
  },
  {
   "cell_type": "code",
   "execution_count": null,
   "id": "e4f0d851",
   "metadata": {},
   "outputs": [],
   "source": [
    "# initialization function: plot the background of each frame\n",
    "def init():\n",
    "    robot.set_data([], [])\n",
    "    return (robot,)"
   ]
  },
  {
   "cell_type": "code",
   "execution_count": null,
   "id": "d65ce2c9",
   "metadata": {},
   "outputs": [],
   "source": [
    "# animation function. This is called sequentially\n",
    "def animate(i):\n",
    "    global r_i\n",
    "    r_i += s_i*ps.target(r_i, T)\n",
    "    robot.set_data(r_i[0], r_i[1])\n",
    "    return (robot,)"
   ]
  },
  {
   "cell_type": "code",
   "execution_count": null,
   "id": "3c9c175c",
   "metadata": {},
   "outputs": [],
   "source": [
    "# call the animator. blit=True means only re-draw the parts that \n",
    "# have changed.\n",
    "anim = animation.FuncAnimation(fig, animate, init_func=init,\n",
    "                               frames=480, interval=1, blit=True)"
   ]
  },
  {
   "cell_type": "code",
   "execution_count": null,
   "id": "38d74b7d",
   "metadata": {},
   "outputs": [],
   "source": [
    "anim\n",
    "plt.show()"
   ]
  },
  {
   "cell_type": "markdown",
   "id": "8a9d181e",
   "metadata": {},
   "source": [
    "![TargetResult](pics/Target.gif \"target\")"
   ]
  }
 ],
 "metadata": {
  "kernelspec": {
   "display_name": "Python 3.10.0 64-bit",
   "language": "python",
   "name": "python3"
  },
  "language_info": {
   "codemirror_mode": {
    "name": "ipython",
    "version": 3
   },
   "file_extension": ".py",
   "mimetype": "text/x-python",
   "name": "python",
   "nbconvert_exporter": "python",
   "pygments_lexer": "ipython3",
   "version": "3.10.0"
  },
  "vscode": {
   "interpreter": {
    "hash": "7e1998ff7f8aa20ada591c520b972326324e5ea05489af9e422744c7c09f6dad"
   }
  }
 },
 "nbformat": 4,
 "nbformat_minor": 5
}
